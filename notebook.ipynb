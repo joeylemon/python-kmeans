{
 "cells": [
  {
   "cell_type": "code",
   "execution_count": 30,
   "source": [
    "from IPython.display import display\r\n",
    "import os\r\n",
    "import numpy as np\r\n",
    "import matplotlib.pyplot as plt\r\n",
    "from skimage import io\r\n",
    "from sklearn.metrics.pairwise import euclidean_distances\r\n",
    "from sklearn.cluster import KMeans\r\n",
    "\r\n",
    "\r\n",
    "MAX_ITERATIONS = 24\r\n",
    "MIN_DELTA_MU = 1"
   ],
   "outputs": [],
   "metadata": {}
  },
  {
   "cell_type": "code",
   "execution_count": 32,
   "source": [
    "def k_means(data, K):\r\n",
    "    # occasionally images will have NaN/inf in data\r\n",
    "    data = np.nan_to_num(data)\r\n",
    "    \r\n",
    "    # randomly choose k centroids from the data points\r\n",
    "    centroids = data[np.random.choice(len(data), size=K, replace=False)]\r\n",
    "    deltas = []\r\n",
    "    labels = None\r\n",
    "\r\n",
    "    for i in range(MAX_ITERATIONS):\r\n",
    "        # assign each data point to closest centroid\r\n",
    "        distances = euclidean_distances(data, centroids)\r\n",
    "        labels = np.array([np.argmin(i) for i in distances])\r\n",
    "\r\n",
    "        # keep track of the largest difference in centroid means\r\n",
    "        max_delta_mu = 0\r\n",
    "\r\n",
    "        for k in range(K):\r\n",
    "            # get all data points with label of this centroid k\r\n",
    "            cluster_points = data[labels == k]\r\n",
    "            if len(cluster_points) == 0:\r\n",
    "                continue\r\n",
    "\r\n",
    "            # get mean r, g, and b values of all points in this class\r\n",
    "            # e.g. mu = [112.5, 95.6, 204.2]\r\n",
    "            mu = cluster_points.mean(axis=0)\r\n",
    "\r\n",
    "            # get the max difference in a r,g, or b value\r\n",
    "            # abs(centroids[k] - mu) will return diff in RGB values\r\n",
    "            # e.g. abs(centroids[k] - mu) = [15.2, 25.4, 4.7]\r\n",
    "            delta_mu = abs(centroids[k] - mu).max()\r\n",
    "\r\n",
    "            # keep track of largest difference in centroid means\r\n",
    "            max_delta_mu = max(max_delta_mu, delta_mu)\r\n",
    "\r\n",
    "            # update the kth centroid to the new mean value\r\n",
    "            centroids[k] = mu\r\n",
    "            \r\n",
    "        deltas.append(max_delta_mu)\r\n",
    "\r\n",
    "        # if the largest change in any centroid RGB color is less than 1, we can stop\r\n",
    "        if max_delta_mu < MIN_DELTA_MU:\r\n",
    "            print(f\"reached delta_mu {max_delta_mu:.2f} < {MIN_DELTA_MU} in {i} iterations for K={K}\")\r\n",
    "            break\r\n",
    "\r\n",
    "    # reassign each point to nearest centroid one last time\r\n",
    "    distances = euclidean_distances(data, centroids)\r\n",
    "    labels = np.array([np.argmin(i) for i in distances])\r\n",
    "\r\n",
    "    return centroids, labels, deltas"
   ],
   "outputs": [],
   "metadata": {}
  },
  {
   "cell_type": "code",
   "execution_count": 21,
   "source": [
    "def reduce_image(img, n_colors):\r\n",
    "    \"\"\"\r\n",
    "    Apply K-means clustering to the given image (ndarray) with\r\n",
    "    K=n_colors. Return the ndarray representing the reduced image.\r\n",
    "    \"\"\"\r\n",
    "    # d (depth) will always be 3 due to RGB values\r\n",
    "    w, h, d = img.shape\r\n",
    "\r\n",
    "    # convert the image into a 2D array, where pixels[0] gets [r,g,b]\r\n",
    "    # for the top-left and pixels[w*h] gets [r,g,b] for bottom-right\r\n",
    "    pixels = np.float32(img.reshape((-1, d)))\r\n",
    "\r\n",
    "    # perform k-means clustering on all pixels\r\n",
    "    centroids, labels, deltas = k_means(data=pixels, K=n_colors)\r\n",
    "\r\n",
    "    # update each pixel in the original image with its new classification\r\n",
    "    pixels = np.array([centroids[i] for i in labels])\r\n",
    "\r\n",
    "    # convert the 2D array back to 3D so it can be understood by skimage/plt\r\n",
    "    # pixels[0][0] gets [r,g,b] at top-left, pixels[w][h] gets [r,g,b] at bottom-right\r\n",
    "    pixels = np.int32(pixels.reshape((w, h, d)))\r\n",
    "\r\n",
    "    return pixels, deltas, labels"
   ],
   "outputs": [],
   "metadata": {}
  },
  {
   "cell_type": "code",
   "execution_count": 43,
   "source": [
    "def plot_image_comparison(name, img_arr):\r\n",
    "    \"\"\"\r\n",
    "    Plot a 2x2 image comparison with the given array of images.\r\n",
    "    img_arr is a list of tuples with format (img, title) where\r\n",
    "    img is an ndarray and title is a str.\r\n",
    "    \"\"\"\r\n",
    "\r\n",
    "    if len(img_arr) != 4:\r\n",
    "        raise ValueError('img array must be of len 4')\r\n",
    "\r\n",
    "    plt.clf()\r\n",
    "    fig = plt.figure(figsize=(7, 7))\r\n",
    "    rows, columns = (2, 2)\r\n",
    "\r\n",
    "    for i, vals in enumerate(img_arr):\r\n",
    "        fig.add_subplot(rows, columns, i+1)\r\n",
    "        plt.imshow(vals[\"img\"], vmin=0, vmax=255)\r\n",
    "        plt.axis(\"off\")\r\n",
    "        plt.title(vals[\"title\"])\r\n",
    "\r\n",
    "    plt.savefig(f\"{name}/comparison.jpeg\")\r\n",
    "\r\n",
    "\r\n",
    "def plot_centroid_movement(name, mu_arr):\r\n",
    "    \"\"\"\r\n",
    "    Plot a line graph showing centroid movement. mu_arr is a list\r\n",
    "    of tuples with format (mu_vals, title, color).\r\n",
    "    \"\"\"\r\n",
    "    plt.clf()\r\n",
    "\r\n",
    "    for vals in mu_arr:\r\n",
    "        x, y = list(range(len(vals[\"mu\"]))), vals[\"mu\"]\r\n",
    "        plt.plot(x, y, color=vals[\"color\"], label=vals[\"label\"])\r\n",
    "\r\n",
    "    plt.title(\"Centroid Movement Convergence\")\r\n",
    "    plt.xlabel(\"Iteration\")\r\n",
    "    plt.ylabel(\"Max Change\")\r\n",
    "    plt.legend(loc=\"upper right\")\r\n",
    "    plt.savefig(f\"{name}/centroid_convergence.jpeg\")\r\n",
    "\r\n",
    "\r\n",
    "def plot_cluster_distributions(name, dist_arr):\r\n",
    "    \"\"\"\r\n",
    "    Plot a histogram showing cluster distributions. dist_arr is a\r\n",
    "    list of tuples with format (labels, title, xticks).\r\n",
    "    \"\"\"\r\n",
    "    plt.clf()\r\n",
    "\r\n",
    "    # create subplots with 1 row and len(dist_arr) columns\r\n",
    "    fig, axs = plt.subplots(1, len(dist_arr), sharey=True)\r\n",
    "    fig.suptitle(\"Cluster Distributions\")\r\n",
    "    fig.text(0.04, 0.5, 'Relative Cluster Size',\r\n",
    "             va='center', rotation='vertical')\r\n",
    "\r\n",
    "    for i, vals in enumerate(dist_arr):\r\n",
    "        dist, title, xticks = vals[\"dist\"], vals[\"title\"], vals[\"xticks\"]\r\n",
    "\r\n",
    "        # go from [0...n] to [1...n+1]\r\n",
    "        dist = dist + 1\r\n",
    "\r\n",
    "        # set weights so sum of all bins adds to 100\r\n",
    "        weights = 100 * np.ones_like(dist) / dist.size\r\n",
    "\r\n",
    "        # plot the histogram\r\n",
    "        axs[i].hist(dist, weights=weights, edgecolor=\"black\")\r\n",
    "        axs[i].set_xticks(xticks)\r\n",
    "        axs[i].set_title(title, y=-0.01, pad=-26)\r\n",
    "\r\n",
    "    plt.savefig(f\"{name}/cluster_distributions.jpeg\")"
   ],
   "outputs": [],
   "metadata": {}
  },
  {
   "cell_type": "code",
   "execution_count": 46,
   "source": [
    "def perform_comparison(filename, k_values):\r\n",
    "    \"\"\"\r\n",
    "    Compare the given image file with a 2x2 figure for the\r\n",
    "    original image and the K=4, K=16, and K=32 images\r\n",
    "    \"\"\"\r\n",
    "    basename = filename.split(\".\")[0]\r\n",
    "\r\n",
    "    K_nums = [str(val[\"K\"]) for val in k_values]\r\n",
    "    print(f\"\\nstart K-means on {basename} for K=[{', '.join(K_nums)}]\")\r\n",
    "\r\n",
    "    if not os.path.exists(basename):\r\n",
    "        os.mkdir(basename)\r\n",
    "\r\n",
    "    img = io.imread(filename)\r\n",
    "    comparisons = [{\"img\": img, \"title\": \"Original Image\"}]\r\n",
    "    centroid_movements = []\r\n",
    "    cluster_distributions = []\r\n",
    "\r\n",
    "    for vals in k_values:\r\n",
    "        K, color, xticks = vals[\"K\"], vals[\"color\"], vals[\"xticks\"]\r\n",
    "\r\n",
    "        img_K, mu_K, labels_K = reduce_image(img, n_colors=K)\r\n",
    "        io.imsave(f\"{basename}/{K}.jpeg\", np.uint8(img_K))\r\n",
    "        \r\n",
    "        comparisons.append({\"img\": img_K, \"title\": f\"Image Obtained for K={K}\"})\r\n",
    "        centroid_movements.append({\"mu\": mu_K, \"label\": f\"K={K}\", \"color\": color})\r\n",
    "        cluster_distributions.append({\"dist\": labels_K, \"title\": f\"K={K}\", \"xticks\": xticks})\r\n",
    "\r\n",
    "    plot_image_comparison(basename, comparisons)\r\n",
    "    plot_centroid_movement(basename, centroid_movements)\r\n",
    "    plot_cluster_distributions(basename, cluster_distributions)\r\n",
    "\r\n",
    "\r\n",
    "k_values = [\r\n",
    "    {\"K\": 4, \"color\": \"blue\", \"xticks\": [1,2,3,4]},\r\n",
    "    {\"K\": 16, \"color\": \"red\", \"xticks\": [1,8,16]},\r\n",
    "    {\"K\": 32, \"color\": \"green\", \"xticks\": [1,8,16,32]}\r\n",
    "]\r\n",
    "\r\n",
    "perform_comparison(\"baboon.jpeg\", k_values)\r\n",
    "# perform_comparison(\"rocket.jpeg\", k_values)\r\n",
    "# perform_comparison(\"smokey.jpeg\", k_values)\r\n",
    "# perform_comparison(\"truck.jpeg\", k_values)\r\n"
   ],
   "outputs": [
    {
     "output_type": "stream",
     "name": "stdout",
     "text": [
      "\n",
      "start K-means on baboon for K=[1, 4, 16]\n",
      "reached delta_mu 0.00 < 1 in 1 iterations for K=1\n"
     ]
    },
    {
     "output_type": "stream",
     "name": "stderr",
     "text": [
      "C:\\Users\\Joey\\AppData\\Local\\Temp/ipykernel_6656/490256604.py:23: UserWarning: baboon/1.jpeg is a low contrast image\n",
      "  io.imsave(f\"{basename}/{K}.jpeg\", np.uint8(img_K))\n"
     ]
    },
    {
     "output_type": "stream",
     "name": "stdout",
     "text": [
      "reached delta_mu 0.90 < 1 in 8 iterations for K=4\n"
     ]
    },
    {
     "output_type": "display_data",
     "data": {
      "text/plain": [
       "<Figure size 432x288 with 0 Axes>"
      ]
     },
     "metadata": {}
    },
    {
     "output_type": "display_data",
     "data": {
      "text/plain": [
       "<Figure size 504x504 with 0 Axes>"
      ]
     },
     "metadata": {}
    },
    {
     "output_type": "display_data",
     "data": {
      "text/plain": [
       "<Figure size 432x288 with 3 Axes>"
      ],
      "image/svg+xml": "<?xml version=\"1.0\" encoding=\"utf-8\" standalone=\"no\"?>\r\n<!DOCTYPE svg PUBLIC \"-//W3C//DTD SVG 1.1//EN\"\r\n  \"http://www.w3.org/Graphics/SVG/1.1/DTD/svg11.dtd\">\r\n<svg height=\"291.310025pt\" version=\"1.1\" viewBox=\"0 0 387.806564 291.310025\" width=\"387.806564pt\" xmlns=\"http://www.w3.org/2000/svg\" xmlns:xlink=\"http://www.w3.org/1999/xlink\">\r\n <metadata>\r\n  <rdf:RDF xmlns:cc=\"http://creativecommons.org/ns#\" xmlns:dc=\"http://purl.org/dc/elements/1.1/\" xmlns:rdf=\"http://www.w3.org/1999/02/22-rdf-syntax-ns#\">\r\n   <cc:Work>\r\n    <dc:type rdf:resource=\"http://purl.org/dc/dcmitype/StillImage\"/>\r\n    <dc:date>2021-09-30T12:56:04.746462</dc:date>\r\n    <dc:format>image/svg+xml</dc:format>\r\n    <dc:creator>\r\n     <cc:Agent>\r\n      <dc:title>Matplotlib v3.4.3, https://matplotlib.org/</dc:title>\r\n     </cc:Agent>\r\n    </dc:creator>\r\n   </cc:Work>\r\n  </rdf:RDF>\r\n </metadata>\r\n <defs>\r\n  <style type=\"text/css\">*{stroke-linecap:butt;stroke-linejoin:round;}</style>\r\n </defs>\r\n <g id=\"figure_1\">\r\n  <g id=\"patch_1\">\r\n   <path d=\"M 0 291.310025 \r\nL 387.806564 291.310025 \r\nL 387.806564 0 \r\nL 0 0 \r\nz\r\n\" style=\"fill:none;\"/>\r\n  </g>\r\n  <g id=\"axes_1\">\r\n   <g id=\"patch_2\">\r\n    <path d=\"M 43.92 253.44 \r\nL 142.390588 253.44 \r\nL 142.390588 36 \r\nL 43.92 36 \r\nz\r\n\" style=\"fill:#ffffff;\"/>\r\n   </g>\r\n   <g id=\"patch_3\">\r\n    <path clip-path=\"url(#pd67d14e20d)\" d=\"M 48.395936 253.44 \r\nL 57.347807 253.44 \r\nL 57.347807 253.44 \r\nL 48.395936 253.44 \r\nz\r\n\" style=\"fill:#1f77b4;stroke:#000000;stroke-linejoin:miter;\"/>\r\n   </g>\r\n   <g id=\"patch_4\">\r\n    <path clip-path=\"url(#pd67d14e20d)\" d=\"M 57.347807 253.44 \r\nL 66.299679 253.44 \r\nL 66.299679 253.44 \r\nL 57.347807 253.44 \r\nz\r\n\" style=\"fill:#1f77b4;stroke:#000000;stroke-linejoin:miter;\"/>\r\n   </g>\r\n   <g id=\"patch_5\">\r\n    <path clip-path=\"url(#pd67d14e20d)\" d=\"M 66.299679 253.44 \r\nL 75.251551 253.44 \r\nL 75.251551 253.44 \r\nL 66.299679 253.44 \r\nz\r\n\" style=\"fill:#1f77b4;stroke:#000000;stroke-linejoin:miter;\"/>\r\n   </g>\r\n   <g id=\"patch_6\">\r\n    <path clip-path=\"url(#pd67d14e20d)\" d=\"M 75.251551 253.44 \r\nL 84.203422 253.44 \r\nL 84.203422 253.44 \r\nL 75.251551 253.44 \r\nz\r\n\" style=\"fill:#1f77b4;stroke:#000000;stroke-linejoin:miter;\"/>\r\n   </g>\r\n   <g id=\"patch_7\">\r\n    <path clip-path=\"url(#pd67d14e20d)\" d=\"M 84.203422 253.44 \r\nL 93.155294 253.44 \r\nL 93.155294 253.44 \r\nL 84.203422 253.44 \r\nz\r\n\" style=\"fill:#1f77b4;stroke:#000000;stroke-linejoin:miter;\"/>\r\n   </g>\r\n   <g id=\"patch_8\">\r\n    <path clip-path=\"url(#pd67d14e20d)\" d=\"M 93.155294 253.44 \r\nL 102.107166 253.44 \r\nL 102.107166 46.354286 \r\nL 93.155294 46.354286 \r\nz\r\n\" style=\"fill:#1f77b4;stroke:#000000;stroke-linejoin:miter;\"/>\r\n   </g>\r\n   <g id=\"patch_9\">\r\n    <path clip-path=\"url(#pd67d14e20d)\" d=\"M 102.107166 253.44 \r\nL 111.059037 253.44 \r\nL 111.059037 253.44 \r\nL 102.107166 253.44 \r\nz\r\n\" style=\"fill:#1f77b4;stroke:#000000;stroke-linejoin:miter;\"/>\r\n   </g>\r\n   <g id=\"patch_10\">\r\n    <path clip-path=\"url(#pd67d14e20d)\" d=\"M 111.059037 253.44 \r\nL 120.010909 253.44 \r\nL 120.010909 253.44 \r\nL 111.059037 253.44 \r\nz\r\n\" style=\"fill:#1f77b4;stroke:#000000;stroke-linejoin:miter;\"/>\r\n   </g>\r\n   <g id=\"patch_11\">\r\n    <path clip-path=\"url(#pd67d14e20d)\" d=\"M 120.010909 253.44 \r\nL 128.962781 253.44 \r\nL 128.962781 253.44 \r\nL 120.010909 253.44 \r\nz\r\n\" style=\"fill:#1f77b4;stroke:#000000;stroke-linejoin:miter;\"/>\r\n   </g>\r\n   <g id=\"patch_12\">\r\n    <path clip-path=\"url(#pd67d14e20d)\" d=\"M 128.962781 253.44 \r\nL 137.914652 253.44 \r\nL 137.914652 253.44 \r\nL 128.962781 253.44 \r\nz\r\n\" style=\"fill:#1f77b4;stroke:#000000;stroke-linejoin:miter;\"/>\r\n   </g>\r\n   <g id=\"matplotlib.axis_1\">\r\n    <g id=\"xtick_1\">\r\n     <g id=\"line2d_1\">\r\n      <defs>\r\n       <path d=\"M 0 0 \r\nL 0 3.5 \r\n\" id=\"m9477489cad\" style=\"stroke:#000000;stroke-width:0.8;\"/>\r\n      </defs>\r\n      <g>\r\n       <use style=\"stroke:#000000;stroke-width:0.8;\" x=\"93.155294\" xlink:href=\"#m9477489cad\" y=\"253.44\"/>\r\n      </g>\r\n     </g>\r\n     <g id=\"text_1\">\r\n      <!-- 1 -->\r\n      <g transform=\"translate(89.974044 268.038437)scale(0.1 -0.1)\">\r\n       <defs>\r\n        <path d=\"M 794 531 \r\nL 1825 531 \r\nL 1825 4091 \r\nL 703 3866 \r\nL 703 4441 \r\nL 1819 4666 \r\nL 2450 4666 \r\nL 2450 531 \r\nL 3481 531 \r\nL 3481 0 \r\nL 794 0 \r\nL 794 531 \r\nz\r\n\" id=\"DejaVuSans-31\" transform=\"scale(0.015625)\"/>\r\n       </defs>\r\n       <use xlink:href=\"#DejaVuSans-31\"/>\r\n      </g>\r\n     </g>\r\n    </g>\r\n   </g>\r\n   <g id=\"matplotlib.axis_2\">\r\n    <g id=\"ytick_1\">\r\n     <g id=\"line2d_2\">\r\n      <defs>\r\n       <path d=\"M 0 0 \r\nL -3.5 0 \r\n\" id=\"m0e04204f37\" style=\"stroke:#000000;stroke-width:0.8;\"/>\r\n      </defs>\r\n      <g>\r\n       <use style=\"stroke:#000000;stroke-width:0.8;\" x=\"43.92\" xlink:href=\"#m0e04204f37\" y=\"253.44\"/>\r\n      </g>\r\n     </g>\r\n     <g id=\"text_2\">\r\n      <!-- 0 -->\r\n      <g transform=\"translate(30.5575 257.239219)scale(0.1 -0.1)\">\r\n       <defs>\r\n        <path d=\"M 2034 4250 \r\nQ 1547 4250 1301 3770 \r\nQ 1056 3291 1056 2328 \r\nQ 1056 1369 1301 889 \r\nQ 1547 409 2034 409 \r\nQ 2525 409 2770 889 \r\nQ 3016 1369 3016 2328 \r\nQ 3016 3291 2770 3770 \r\nQ 2525 4250 2034 4250 \r\nz\r\nM 2034 4750 \r\nQ 2819 4750 3233 4129 \r\nQ 3647 3509 3647 2328 \r\nQ 3647 1150 3233 529 \r\nQ 2819 -91 2034 -91 \r\nQ 1250 -91 836 529 \r\nQ 422 1150 422 2328 \r\nQ 422 3509 836 4129 \r\nQ 1250 4750 2034 4750 \r\nz\r\n\" id=\"DejaVuSans-30\" transform=\"scale(0.015625)\"/>\r\n       </defs>\r\n       <use xlink:href=\"#DejaVuSans-30\"/>\r\n      </g>\r\n     </g>\r\n    </g>\r\n    <g id=\"ytick_2\">\r\n     <g id=\"line2d_3\">\r\n      <g>\r\n       <use style=\"stroke:#000000;stroke-width:0.8;\" x=\"43.92\" xlink:href=\"#m0e04204f37\" y=\"212.022857\"/>\r\n      </g>\r\n     </g>\r\n     <g id=\"text_3\">\r\n      <!-- 20 -->\r\n      <g transform=\"translate(24.195 215.822076)scale(0.1 -0.1)\">\r\n       <defs>\r\n        <path d=\"M 1228 531 \r\nL 3431 531 \r\nL 3431 0 \r\nL 469 0 \r\nL 469 531 \r\nQ 828 903 1448 1529 \r\nQ 2069 2156 2228 2338 \r\nQ 2531 2678 2651 2914 \r\nQ 2772 3150 2772 3378 \r\nQ 2772 3750 2511 3984 \r\nQ 2250 4219 1831 4219 \r\nQ 1534 4219 1204 4116 \r\nQ 875 4013 500 3803 \r\nL 500 4441 \r\nQ 881 4594 1212 4672 \r\nQ 1544 4750 1819 4750 \r\nQ 2544 4750 2975 4387 \r\nQ 3406 4025 3406 3419 \r\nQ 3406 3131 3298 2873 \r\nQ 3191 2616 2906 2266 \r\nQ 2828 2175 2409 1742 \r\nQ 1991 1309 1228 531 \r\nz\r\n\" id=\"DejaVuSans-32\" transform=\"scale(0.015625)\"/>\r\n       </defs>\r\n       <use xlink:href=\"#DejaVuSans-32\"/>\r\n       <use x=\"63.623047\" xlink:href=\"#DejaVuSans-30\"/>\r\n      </g>\r\n     </g>\r\n    </g>\r\n    <g id=\"ytick_3\">\r\n     <g id=\"line2d_4\">\r\n      <g>\r\n       <use style=\"stroke:#000000;stroke-width:0.8;\" x=\"43.92\" xlink:href=\"#m0e04204f37\" y=\"170.605714\"/>\r\n      </g>\r\n     </g>\r\n     <g id=\"text_4\">\r\n      <!-- 40 -->\r\n      <g transform=\"translate(24.195 174.404933)scale(0.1 -0.1)\">\r\n       <defs>\r\n        <path d=\"M 2419 4116 \r\nL 825 1625 \r\nL 2419 1625 \r\nL 2419 4116 \r\nz\r\nM 2253 4666 \r\nL 3047 4666 \r\nL 3047 1625 \r\nL 3713 1625 \r\nL 3713 1100 \r\nL 3047 1100 \r\nL 3047 0 \r\nL 2419 0 \r\nL 2419 1100 \r\nL 313 1100 \r\nL 313 1709 \r\nL 2253 4666 \r\nz\r\n\" id=\"DejaVuSans-34\" transform=\"scale(0.015625)\"/>\r\n       </defs>\r\n       <use xlink:href=\"#DejaVuSans-34\"/>\r\n       <use x=\"63.623047\" xlink:href=\"#DejaVuSans-30\"/>\r\n      </g>\r\n     </g>\r\n    </g>\r\n    <g id=\"ytick_4\">\r\n     <g id=\"line2d_5\">\r\n      <g>\r\n       <use style=\"stroke:#000000;stroke-width:0.8;\" x=\"43.92\" xlink:href=\"#m0e04204f37\" y=\"129.188571\"/>\r\n      </g>\r\n     </g>\r\n     <g id=\"text_5\">\r\n      <!-- 60 -->\r\n      <g transform=\"translate(24.195 132.98779)scale(0.1 -0.1)\">\r\n       <defs>\r\n        <path d=\"M 2113 2584 \r\nQ 1688 2584 1439 2293 \r\nQ 1191 2003 1191 1497 \r\nQ 1191 994 1439 701 \r\nQ 1688 409 2113 409 \r\nQ 2538 409 2786 701 \r\nQ 3034 994 3034 1497 \r\nQ 3034 2003 2786 2293 \r\nQ 2538 2584 2113 2584 \r\nz\r\nM 3366 4563 \r\nL 3366 3988 \r\nQ 3128 4100 2886 4159 \r\nQ 2644 4219 2406 4219 \r\nQ 1781 4219 1451 3797 \r\nQ 1122 3375 1075 2522 \r\nQ 1259 2794 1537 2939 \r\nQ 1816 3084 2150 3084 \r\nQ 2853 3084 3261 2657 \r\nQ 3669 2231 3669 1497 \r\nQ 3669 778 3244 343 \r\nQ 2819 -91 2113 -91 \r\nQ 1303 -91 875 529 \r\nQ 447 1150 447 2328 \r\nQ 447 3434 972 4092 \r\nQ 1497 4750 2381 4750 \r\nQ 2619 4750 2861 4703 \r\nQ 3103 4656 3366 4563 \r\nz\r\n\" id=\"DejaVuSans-36\" transform=\"scale(0.015625)\"/>\r\n       </defs>\r\n       <use xlink:href=\"#DejaVuSans-36\"/>\r\n       <use x=\"63.623047\" xlink:href=\"#DejaVuSans-30\"/>\r\n      </g>\r\n     </g>\r\n    </g>\r\n    <g id=\"ytick_5\">\r\n     <g id=\"line2d_6\">\r\n      <g>\r\n       <use style=\"stroke:#000000;stroke-width:0.8;\" x=\"43.92\" xlink:href=\"#m0e04204f37\" y=\"87.771429\"/>\r\n      </g>\r\n     </g>\r\n     <g id=\"text_6\">\r\n      <!-- 80 -->\r\n      <g transform=\"translate(24.195 91.570647)scale(0.1 -0.1)\">\r\n       <defs>\r\n        <path d=\"M 2034 2216 \r\nQ 1584 2216 1326 1975 \r\nQ 1069 1734 1069 1313 \r\nQ 1069 891 1326 650 \r\nQ 1584 409 2034 409 \r\nQ 2484 409 2743 651 \r\nQ 3003 894 3003 1313 \r\nQ 3003 1734 2745 1975 \r\nQ 2488 2216 2034 2216 \r\nz\r\nM 1403 2484 \r\nQ 997 2584 770 2862 \r\nQ 544 3141 544 3541 \r\nQ 544 4100 942 4425 \r\nQ 1341 4750 2034 4750 \r\nQ 2731 4750 3128 4425 \r\nQ 3525 4100 3525 3541 \r\nQ 3525 3141 3298 2862 \r\nQ 3072 2584 2669 2484 \r\nQ 3125 2378 3379 2068 \r\nQ 3634 1759 3634 1313 \r\nQ 3634 634 3220 271 \r\nQ 2806 -91 2034 -91 \r\nQ 1263 -91 848 271 \r\nQ 434 634 434 1313 \r\nQ 434 1759 690 2068 \r\nQ 947 2378 1403 2484 \r\nz\r\nM 1172 3481 \r\nQ 1172 3119 1398 2916 \r\nQ 1625 2713 2034 2713 \r\nQ 2441 2713 2670 2916 \r\nQ 2900 3119 2900 3481 \r\nQ 2900 3844 2670 4047 \r\nQ 2441 4250 2034 4250 \r\nQ 1625 4250 1398 4047 \r\nQ 1172 3844 1172 3481 \r\nz\r\n\" id=\"DejaVuSans-38\" transform=\"scale(0.015625)\"/>\r\n       </defs>\r\n       <use xlink:href=\"#DejaVuSans-38\"/>\r\n       <use x=\"63.623047\" xlink:href=\"#DejaVuSans-30\"/>\r\n      </g>\r\n     </g>\r\n    </g>\r\n    <g id=\"ytick_6\">\r\n     <g id=\"line2d_7\">\r\n      <g>\r\n       <use style=\"stroke:#000000;stroke-width:0.8;\" x=\"43.92\" xlink:href=\"#m0e04204f37\" y=\"46.354286\"/>\r\n      </g>\r\n     </g>\r\n     <g id=\"text_7\">\r\n      <!-- 100 -->\r\n      <g transform=\"translate(17.8325 50.153504)scale(0.1 -0.1)\">\r\n       <use xlink:href=\"#DejaVuSans-31\"/>\r\n       <use x=\"63.623047\" xlink:href=\"#DejaVuSans-30\"/>\r\n       <use x=\"127.246094\" xlink:href=\"#DejaVuSans-30\"/>\r\n      </g>\r\n     </g>\r\n    </g>\r\n   </g>\r\n   <g id=\"patch_13\">\r\n    <path d=\"M 43.92 253.44 \r\nL 43.92 36 \r\n\" style=\"fill:none;stroke:#000000;stroke-linecap:square;stroke-linejoin:miter;stroke-width:0.8;\"/>\r\n   </g>\r\n   <g id=\"patch_14\">\r\n    <path d=\"M 142.390588 253.44 \r\nL 142.390588 36 \r\n\" style=\"fill:none;stroke:#000000;stroke-linecap:square;stroke-linejoin:miter;stroke-width:0.8;\"/>\r\n   </g>\r\n   <g id=\"patch_15\">\r\n    <path d=\"M 43.92 253.44 \r\nL 142.390588 253.44 \r\n\" style=\"fill:none;stroke:#000000;stroke-linecap:square;stroke-linejoin:miter;stroke-width:0.8;\"/>\r\n   </g>\r\n   <g id=\"patch_16\">\r\n    <path d=\"M 43.92 36 \r\nL 142.390588 36 \r\n\" style=\"fill:none;stroke:#000000;stroke-linecap:square;stroke-linejoin:miter;stroke-width:0.8;\"/>\r\n   </g>\r\n   <g id=\"text_8\">\r\n    <!-- K=1 -->\r\n    <g transform=\"translate(80.375294 281.6144)scale(0.12 -0.12)\">\r\n     <defs>\r\n      <path d=\"M 628 4666 \r\nL 1259 4666 \r\nL 1259 2694 \r\nL 3353 4666 \r\nL 4166 4666 \r\nL 1850 2491 \r\nL 4331 0 \r\nL 3500 0 \r\nL 1259 2247 \r\nL 1259 0 \r\nL 628 0 \r\nL 628 4666 \r\nz\r\n\" id=\"DejaVuSans-4b\" transform=\"scale(0.015625)\"/>\r\n      <path d=\"M 678 2906 \r\nL 4684 2906 \r\nL 4684 2381 \r\nL 678 2381 \r\nL 678 2906 \r\nz\r\nM 678 1631 \r\nL 4684 1631 \r\nL 4684 1100 \r\nL 678 1100 \r\nL 678 1631 \r\nz\r\n\" id=\"DejaVuSans-3d\" transform=\"scale(0.015625)\"/>\r\n     </defs>\r\n     <use xlink:href=\"#DejaVuSans-4b\"/>\r\n     <use x=\"65.576172\" xlink:href=\"#DejaVuSans-3d\"/>\r\n     <use x=\"149.365234\" xlink:href=\"#DejaVuSans-31\"/>\r\n    </g>\r\n   </g>\r\n  </g>\r\n  <g id=\"axes_2\">\r\n   <g id=\"patch_17\">\r\n    <path d=\"M 162.084706 253.44 \r\nL 260.555294 253.44 \r\nL 260.555294 36 \r\nL 162.084706 36 \r\nz\r\n\" style=\"fill:#ffffff;\"/>\r\n   </g>\r\n   <g id=\"patch_18\">\r\n    <path clip-path=\"url(#pf6704a95cb)\" d=\"M 166.560642 253.44 \r\nL 175.512513 253.44 \r\nL 175.512513 186.53118 \r\nL 166.560642 186.53118 \r\nz\r\n\" style=\"fill:#1f77b4;stroke:#000000;stroke-linejoin:miter;\"/>\r\n   </g>\r\n   <g id=\"patch_19\">\r\n    <path clip-path=\"url(#pf6704a95cb)\" d=\"M 175.512513 253.44 \r\nL 184.464385 253.44 \r\nL 184.464385 253.44 \r\nL 175.512513 253.44 \r\nz\r\n\" style=\"fill:#1f77b4;stroke:#000000;stroke-linejoin:miter;\"/>\r\n   </g>\r\n   <g id=\"patch_20\">\r\n    <path clip-path=\"url(#pf6704a95cb)\" d=\"M 184.464385 253.44 \r\nL 193.416257 253.44 \r\nL 193.416257 253.44 \r\nL 184.464385 253.44 \r\nz\r\n\" style=\"fill:#1f77b4;stroke:#000000;stroke-linejoin:miter;\"/>\r\n   </g>\r\n   <g id=\"patch_21\">\r\n    <path clip-path=\"url(#pf6704a95cb)\" d=\"M 193.416257 253.44 \r\nL 202.368128 253.44 \r\nL 202.368128 209.42449 \r\nL 193.416257 209.42449 \r\nz\r\n\" style=\"fill:#1f77b4;stroke:#000000;stroke-linejoin:miter;\"/>\r\n   </g>\r\n   <g id=\"patch_22\">\r\n    <path clip-path=\"url(#pf6704a95cb)\" d=\"M 202.368128 253.44 \r\nL 211.32 253.44 \r\nL 211.32 253.44 \r\nL 202.368128 253.44 \r\nz\r\n\" style=\"fill:#1f77b4;stroke:#000000;stroke-linejoin:miter;\"/>\r\n   </g>\r\n   <g id=\"patch_23\">\r\n    <path clip-path=\"url(#pf6704a95cb)\" d=\"M 211.32 253.44 \r\nL 220.271872 253.44 \r\nL 220.271872 253.44 \r\nL 211.32 253.44 \r\nz\r\n\" style=\"fill:#1f77b4;stroke:#000000;stroke-linejoin:miter;\"/>\r\n   </g>\r\n   <g id=\"patch_24\">\r\n    <path clip-path=\"url(#pf6704a95cb)\" d=\"M 220.271872 253.44 \r\nL 229.223743 253.44 \r\nL 229.223743 186.454553 \r\nL 220.271872 186.454553 \r\nz\r\n\" style=\"fill:#1f77b4;stroke:#000000;stroke-linejoin:miter;\"/>\r\n   </g>\r\n   <g id=\"patch_25\">\r\n    <path clip-path=\"url(#pf6704a95cb)\" d=\"M 229.223743 253.44 \r\nL 238.175615 253.44 \r\nL 238.175615 253.44 \r\nL 229.223743 253.44 \r\nz\r\n\" style=\"fill:#1f77b4;stroke:#000000;stroke-linejoin:miter;\"/>\r\n   </g>\r\n   <g id=\"patch_26\">\r\n    <path clip-path=\"url(#pf6704a95cb)\" d=\"M 238.175615 253.44 \r\nL 247.127487 253.44 \r\nL 247.127487 253.44 \r\nL 238.175615 253.44 \r\nz\r\n\" style=\"fill:#1f77b4;stroke:#000000;stroke-linejoin:miter;\"/>\r\n   </g>\r\n   <g id=\"patch_27\">\r\n    <path clip-path=\"url(#pf6704a95cb)\" d=\"M 247.127487 253.44 \r\nL 256.079358 253.44 \r\nL 256.079358 224.264064 \r\nL 247.127487 224.264064 \r\nz\r\n\" style=\"fill:#1f77b4;stroke:#000000;stroke-linejoin:miter;\"/>\r\n   </g>\r\n   <g id=\"matplotlib.axis_3\">\r\n    <g id=\"xtick_2\">\r\n     <g id=\"line2d_8\">\r\n      <g>\r\n       <use style=\"stroke:#000000;stroke-width:0.8;\" x=\"166.560642\" xlink:href=\"#m9477489cad\" y=\"253.44\"/>\r\n      </g>\r\n     </g>\r\n     <g id=\"text_9\">\r\n      <!-- 1 -->\r\n      <g transform=\"translate(163.379392 268.038437)scale(0.1 -0.1)\">\r\n       <use xlink:href=\"#DejaVuSans-31\"/>\r\n      </g>\r\n     </g>\r\n    </g>\r\n    <g id=\"xtick_3\">\r\n     <g id=\"line2d_9\">\r\n      <g>\r\n       <use style=\"stroke:#000000;stroke-width:0.8;\" x=\"196.400214\" xlink:href=\"#m9477489cad\" y=\"253.44\"/>\r\n      </g>\r\n     </g>\r\n     <g id=\"text_10\">\r\n      <!-- 2 -->\r\n      <g transform=\"translate(193.218964 268.038437)scale(0.1 -0.1)\">\r\n       <use xlink:href=\"#DejaVuSans-32\"/>\r\n      </g>\r\n     </g>\r\n    </g>\r\n    <g id=\"xtick_4\">\r\n     <g id=\"line2d_10\">\r\n      <g>\r\n       <use style=\"stroke:#000000;stroke-width:0.8;\" x=\"226.239786\" xlink:href=\"#m9477489cad\" y=\"253.44\"/>\r\n      </g>\r\n     </g>\r\n     <g id=\"text_11\">\r\n      <!-- 3 -->\r\n      <g transform=\"translate(223.058536 268.038437)scale(0.1 -0.1)\">\r\n       <defs>\r\n        <path d=\"M 2597 2516 \r\nQ 3050 2419 3304 2112 \r\nQ 3559 1806 3559 1356 \r\nQ 3559 666 3084 287 \r\nQ 2609 -91 1734 -91 \r\nQ 1441 -91 1130 -33 \r\nQ 819 25 488 141 \r\nL 488 750 \r\nQ 750 597 1062 519 \r\nQ 1375 441 1716 441 \r\nQ 2309 441 2620 675 \r\nQ 2931 909 2931 1356 \r\nQ 2931 1769 2642 2001 \r\nQ 2353 2234 1838 2234 \r\nL 1294 2234 \r\nL 1294 2753 \r\nL 1863 2753 \r\nQ 2328 2753 2575 2939 \r\nQ 2822 3125 2822 3475 \r\nQ 2822 3834 2567 4026 \r\nQ 2313 4219 1838 4219 \r\nQ 1578 4219 1281 4162 \r\nQ 984 4106 628 3988 \r\nL 628 4550 \r\nQ 988 4650 1302 4700 \r\nQ 1616 4750 1894 4750 \r\nQ 2613 4750 3031 4423 \r\nQ 3450 4097 3450 3541 \r\nQ 3450 3153 3228 2886 \r\nQ 3006 2619 2597 2516 \r\nz\r\n\" id=\"DejaVuSans-33\" transform=\"scale(0.015625)\"/>\r\n       </defs>\r\n       <use xlink:href=\"#DejaVuSans-33\"/>\r\n      </g>\r\n     </g>\r\n    </g>\r\n    <g id=\"xtick_5\">\r\n     <g id=\"line2d_11\">\r\n      <g>\r\n       <use style=\"stroke:#000000;stroke-width:0.8;\" x=\"256.079358\" xlink:href=\"#m9477489cad\" y=\"253.44\"/>\r\n      </g>\r\n     </g>\r\n     <g id=\"text_12\">\r\n      <!-- 4 -->\r\n      <g transform=\"translate(252.898108 268.038437)scale(0.1 -0.1)\">\r\n       <use xlink:href=\"#DejaVuSans-34\"/>\r\n      </g>\r\n     </g>\r\n    </g>\r\n   </g>\r\n   <g id=\"matplotlib.axis_4\">\r\n    <g id=\"ytick_7\">\r\n     <g id=\"line2d_12\">\r\n      <g>\r\n       <use style=\"stroke:#000000;stroke-width:0.8;\" x=\"162.084706\" xlink:href=\"#m0e04204f37\" y=\"253.44\"/>\r\n      </g>\r\n     </g>\r\n    </g>\r\n    <g id=\"ytick_8\">\r\n     <g id=\"line2d_13\">\r\n      <g>\r\n       <use style=\"stroke:#000000;stroke-width:0.8;\" x=\"162.084706\" xlink:href=\"#m0e04204f37\" y=\"212.022857\"/>\r\n      </g>\r\n     </g>\r\n    </g>\r\n    <g id=\"ytick_9\">\r\n     <g id=\"line2d_14\">\r\n      <g>\r\n       <use style=\"stroke:#000000;stroke-width:0.8;\" x=\"162.084706\" xlink:href=\"#m0e04204f37\" y=\"170.605714\"/>\r\n      </g>\r\n     </g>\r\n    </g>\r\n    <g id=\"ytick_10\">\r\n     <g id=\"line2d_15\">\r\n      <g>\r\n       <use style=\"stroke:#000000;stroke-width:0.8;\" x=\"162.084706\" xlink:href=\"#m0e04204f37\" y=\"129.188571\"/>\r\n      </g>\r\n     </g>\r\n    </g>\r\n    <g id=\"ytick_11\">\r\n     <g id=\"line2d_16\">\r\n      <g>\r\n       <use style=\"stroke:#000000;stroke-width:0.8;\" x=\"162.084706\" xlink:href=\"#m0e04204f37\" y=\"87.771429\"/>\r\n      </g>\r\n     </g>\r\n    </g>\r\n    <g id=\"ytick_12\">\r\n     <g id=\"line2d_17\">\r\n      <g>\r\n       <use style=\"stroke:#000000;stroke-width:0.8;\" x=\"162.084706\" xlink:href=\"#m0e04204f37\" y=\"46.354286\"/>\r\n      </g>\r\n     </g>\r\n    </g>\r\n   </g>\r\n   <g id=\"patch_28\">\r\n    <path d=\"M 162.084706 253.44 \r\nL 162.084706 36 \r\n\" style=\"fill:none;stroke:#000000;stroke-linecap:square;stroke-linejoin:miter;stroke-width:0.8;\"/>\r\n   </g>\r\n   <g id=\"patch_29\">\r\n    <path d=\"M 260.555294 253.44 \r\nL 260.555294 36 \r\n\" style=\"fill:none;stroke:#000000;stroke-linecap:square;stroke-linejoin:miter;stroke-width:0.8;\"/>\r\n   </g>\r\n   <g id=\"patch_30\">\r\n    <path d=\"M 162.084706 253.44 \r\nL 260.555294 253.44 \r\n\" style=\"fill:none;stroke:#000000;stroke-linecap:square;stroke-linejoin:miter;stroke-width:0.8;\"/>\r\n   </g>\r\n   <g id=\"patch_31\">\r\n    <path d=\"M 162.084706 36 \r\nL 260.555294 36 \r\n\" style=\"fill:none;stroke:#000000;stroke-linecap:square;stroke-linejoin:miter;stroke-width:0.8;\"/>\r\n   </g>\r\n   <g id=\"text_13\">\r\n    <!-- K=4 -->\r\n    <g transform=\"translate(198.54 281.6144)scale(0.12 -0.12)\">\r\n     <use xlink:href=\"#DejaVuSans-4b\"/>\r\n     <use x=\"65.576172\" xlink:href=\"#DejaVuSans-3d\"/>\r\n     <use x=\"149.365234\" xlink:href=\"#DejaVuSans-34\"/>\r\n    </g>\r\n   </g>\r\n  </g>\r\n  <g id=\"axes_3\">\r\n   <g id=\"patch_32\">\r\n    <path d=\"M 280.249412 253.44 \r\nL 378.72 253.44 \r\nL 378.72 36 \r\nL 280.249412 36 \r\nz\r\n\" style=\"fill:#ffffff;\"/>\r\n   </g>\r\n   <g id=\"patch_33\">\r\n    <path clip-path=\"url(#pa9c0afa3a6)\" d=\"M 284.725348 253.44 \r\nL 293.677219 253.44 \r\nL 293.677219 210.592855 \r\nL 284.725348 210.592855 \r\nz\r\n\" style=\"fill:#1f77b4;stroke:#000000;stroke-linejoin:miter;\"/>\r\n   </g>\r\n   <g id=\"patch_34\">\r\n    <path clip-path=\"url(#pa9c0afa3a6)\" d=\"M 293.677219 253.44 \r\nL 302.629091 253.44 \r\nL 302.629091 247.107606 \r\nL 293.677219 247.107606 \r\nz\r\n\" style=\"fill:#1f77b4;stroke:#000000;stroke-linejoin:miter;\"/>\r\n   </g>\r\n   <g id=\"patch_35\">\r\n    <path clip-path=\"url(#pa9c0afa3a6)\" d=\"M 302.629091 253.44 \r\nL 311.580963 253.44 \r\nL 311.580963 234.292724 \r\nL 302.629091 234.292724 \r\nz\r\n\" style=\"fill:#1f77b4;stroke:#000000;stroke-linejoin:miter;\"/>\r\n   </g>\r\n   <g id=\"patch_36\">\r\n    <path clip-path=\"url(#pa9c0afa3a6)\" d=\"M 311.580963 253.44 \r\nL 320.532834 253.44 \r\nL 320.532834 233.698667 \r\nL 311.580963 233.698667 \r\nz\r\n\" style=\"fill:#1f77b4;stroke:#000000;stroke-linejoin:miter;\"/>\r\n   </g>\r\n   <g id=\"patch_37\">\r\n    <path clip-path=\"url(#pa9c0afa3a6)\" d=\"M 320.532834 253.44 \r\nL 329.484706 253.44 \r\nL 329.484706 226.220028 \r\nL 320.532834 226.220028 \r\nz\r\n\" style=\"fill:#1f77b4;stroke:#000000;stroke-linejoin:miter;\"/>\r\n   </g>\r\n   <g id=\"patch_38\">\r\n    <path clip-path=\"url(#pa9c0afa3a6)\" d=\"M 329.484706 253.44 \r\nL 338.436578 253.44 \r\nL 338.436578 246.105135 \r\nL 329.484706 246.105135 \r\nz\r\n\" style=\"fill:#1f77b4;stroke:#000000;stroke-linejoin:miter;\"/>\r\n   </g>\r\n   <g id=\"patch_39\">\r\n    <path clip-path=\"url(#pa9c0afa3a6)\" d=\"M 338.436578 253.44 \r\nL 347.388449 253.44 \r\nL 347.388449 229.973962 \r\nL 338.436578 229.973962 \r\nz\r\n\" style=\"fill:#1f77b4;stroke:#000000;stroke-linejoin:miter;\"/>\r\n   </g>\r\n   <g id=\"patch_40\">\r\n    <path clip-path=\"url(#pa9c0afa3a6)\" d=\"M 347.388449 253.44 \r\nL 356.340321 253.44 \r\nL 356.340321 248.224623 \r\nL 347.388449 248.224623 \r\nz\r\n\" style=\"fill:#1f77b4;stroke:#000000;stroke-linejoin:miter;\"/>\r\n   </g>\r\n   <g id=\"patch_41\">\r\n    <path clip-path=\"url(#pa9c0afa3a6)\" d=\"M 356.340321 253.44 \r\nL 365.292193 253.44 \r\nL 365.292193 231.545211 \r\nL 356.340321 231.545211 \r\nz\r\n\" style=\"fill:#1f77b4;stroke:#000000;stroke-linejoin:miter;\"/>\r\n   </g>\r\n   <g id=\"patch_42\">\r\n    <path clip-path=\"url(#pa9c0afa3a6)\" d=\"M 365.292193 253.44 \r\nL 374.244064 253.44 \r\nL 374.244064 219.553477 \r\nL 365.292193 219.553477 \r\nz\r\n\" style=\"fill:#1f77b4;stroke:#000000;stroke-linejoin:miter;\"/>\r\n   </g>\r\n   <g id=\"matplotlib.axis_5\">\r\n    <g id=\"xtick_6\">\r\n     <g id=\"line2d_18\">\r\n      <g>\r\n       <use style=\"stroke:#000000;stroke-width:0.8;\" x=\"284.725348\" xlink:href=\"#m9477489cad\" y=\"253.44\"/>\r\n      </g>\r\n     </g>\r\n     <g id=\"text_14\">\r\n      <!-- 1 -->\r\n      <g transform=\"translate(281.544098 268.038437)scale(0.1 -0.1)\">\r\n       <use xlink:href=\"#DejaVuSans-31\"/>\r\n      </g>\r\n     </g>\r\n    </g>\r\n    <g id=\"xtick_7\">\r\n     <g id=\"line2d_19\">\r\n      <g>\r\n       <use style=\"stroke:#000000;stroke-width:0.8;\" x=\"326.500749\" xlink:href=\"#m9477489cad\" y=\"253.44\"/>\r\n      </g>\r\n     </g>\r\n     <g id=\"text_15\">\r\n      <!-- 8 -->\r\n      <g transform=\"translate(323.319499 268.038437)scale(0.1 -0.1)\">\r\n       <use xlink:href=\"#DejaVuSans-38\"/>\r\n      </g>\r\n     </g>\r\n    </g>\r\n    <g id=\"xtick_8\">\r\n     <g id=\"line2d_20\">\r\n      <g>\r\n       <use style=\"stroke:#000000;stroke-width:0.8;\" x=\"374.244064\" xlink:href=\"#m9477489cad\" y=\"253.44\"/>\r\n      </g>\r\n     </g>\r\n     <g id=\"text_16\">\r\n      <!-- 16 -->\r\n      <g transform=\"translate(367.881564 268.038437)scale(0.1 -0.1)\">\r\n       <use xlink:href=\"#DejaVuSans-31\"/>\r\n       <use x=\"63.623047\" xlink:href=\"#DejaVuSans-36\"/>\r\n      </g>\r\n     </g>\r\n    </g>\r\n   </g>\r\n   <g id=\"matplotlib.axis_6\">\r\n    <g id=\"ytick_13\">\r\n     <g id=\"line2d_21\">\r\n      <g>\r\n       <use style=\"stroke:#000000;stroke-width:0.8;\" x=\"280.249412\" xlink:href=\"#m0e04204f37\" y=\"253.44\"/>\r\n      </g>\r\n     </g>\r\n    </g>\r\n    <g id=\"ytick_14\">\r\n     <g id=\"line2d_22\">\r\n      <g>\r\n       <use style=\"stroke:#000000;stroke-width:0.8;\" x=\"280.249412\" xlink:href=\"#m0e04204f37\" y=\"212.022857\"/>\r\n      </g>\r\n     </g>\r\n    </g>\r\n    <g id=\"ytick_15\">\r\n     <g id=\"line2d_23\">\r\n      <g>\r\n       <use style=\"stroke:#000000;stroke-width:0.8;\" x=\"280.249412\" xlink:href=\"#m0e04204f37\" y=\"170.605714\"/>\r\n      </g>\r\n     </g>\r\n    </g>\r\n    <g id=\"ytick_16\">\r\n     <g id=\"line2d_24\">\r\n      <g>\r\n       <use style=\"stroke:#000000;stroke-width:0.8;\" x=\"280.249412\" xlink:href=\"#m0e04204f37\" y=\"129.188571\"/>\r\n      </g>\r\n     </g>\r\n    </g>\r\n    <g id=\"ytick_17\">\r\n     <g id=\"line2d_25\">\r\n      <g>\r\n       <use style=\"stroke:#000000;stroke-width:0.8;\" x=\"280.249412\" xlink:href=\"#m0e04204f37\" y=\"87.771429\"/>\r\n      </g>\r\n     </g>\r\n    </g>\r\n    <g id=\"ytick_18\">\r\n     <g id=\"line2d_26\">\r\n      <g>\r\n       <use style=\"stroke:#000000;stroke-width:0.8;\" x=\"280.249412\" xlink:href=\"#m0e04204f37\" y=\"46.354286\"/>\r\n      </g>\r\n     </g>\r\n    </g>\r\n   </g>\r\n   <g id=\"patch_43\">\r\n    <path d=\"M 280.249412 253.44 \r\nL 280.249412 36 \r\n\" style=\"fill:none;stroke:#000000;stroke-linecap:square;stroke-linejoin:miter;stroke-width:0.8;\"/>\r\n   </g>\r\n   <g id=\"patch_44\">\r\n    <path d=\"M 378.72 253.44 \r\nL 378.72 36 \r\n\" style=\"fill:none;stroke:#000000;stroke-linecap:square;stroke-linejoin:miter;stroke-width:0.8;\"/>\r\n   </g>\r\n   <g id=\"patch_45\">\r\n    <path d=\"M 280.249412 253.44 \r\nL 378.72 253.44 \r\n\" style=\"fill:none;stroke:#000000;stroke-linecap:square;stroke-linejoin:miter;stroke-width:0.8;\"/>\r\n   </g>\r\n   <g id=\"patch_46\">\r\n    <path d=\"M 280.249412 36 \r\nL 378.72 36 \r\n\" style=\"fill:none;stroke:#000000;stroke-linecap:square;stroke-linejoin:miter;stroke-width:0.8;\"/>\r\n   </g>\r\n   <g id=\"text_17\">\r\n    <!-- K=16 -->\r\n    <g transform=\"translate(312.887206 281.6144)scale(0.12 -0.12)\">\r\n     <use xlink:href=\"#DejaVuSans-4b\"/>\r\n     <use x=\"65.576172\" xlink:href=\"#DejaVuSans-3d\"/>\r\n     <use x=\"149.365234\" xlink:href=\"#DejaVuSans-31\"/>\r\n     <use x=\"212.988281\" xlink:href=\"#DejaVuSans-36\"/>\r\n    </g>\r\n   </g>\r\n  </g>\r\n  <g id=\"text_18\">\r\n   <!-- Cluster Distributions -->\r\n   <g transform=\"translate(144.589688 16.318125)scale(0.12 -0.12)\">\r\n    <defs>\r\n     <path d=\"M 4122 4306 \r\nL 4122 3641 \r\nQ 3803 3938 3442 4084 \r\nQ 3081 4231 2675 4231 \r\nQ 1875 4231 1450 3742 \r\nQ 1025 3253 1025 2328 \r\nQ 1025 1406 1450 917 \r\nQ 1875 428 2675 428 \r\nQ 3081 428 3442 575 \r\nQ 3803 722 4122 1019 \r\nL 4122 359 \r\nQ 3791 134 3420 21 \r\nQ 3050 -91 2638 -91 \r\nQ 1578 -91 968 557 \r\nQ 359 1206 359 2328 \r\nQ 359 3453 968 4101 \r\nQ 1578 4750 2638 4750 \r\nQ 3056 4750 3426 4639 \r\nQ 3797 4528 4122 4306 \r\nz\r\n\" id=\"DejaVuSans-43\" transform=\"scale(0.015625)\"/>\r\n     <path d=\"M 603 4863 \r\nL 1178 4863 \r\nL 1178 0 \r\nL 603 0 \r\nL 603 4863 \r\nz\r\n\" id=\"DejaVuSans-6c\" transform=\"scale(0.015625)\"/>\r\n     <path d=\"M 544 1381 \r\nL 544 3500 \r\nL 1119 3500 \r\nL 1119 1403 \r\nQ 1119 906 1312 657 \r\nQ 1506 409 1894 409 \r\nQ 2359 409 2629 706 \r\nQ 2900 1003 2900 1516 \r\nL 2900 3500 \r\nL 3475 3500 \r\nL 3475 0 \r\nL 2900 0 \r\nL 2900 538 \r\nQ 2691 219 2414 64 \r\nQ 2138 -91 1772 -91 \r\nQ 1169 -91 856 284 \r\nQ 544 659 544 1381 \r\nz\r\nM 1991 3584 \r\nL 1991 3584 \r\nz\r\n\" id=\"DejaVuSans-75\" transform=\"scale(0.015625)\"/>\r\n     <path d=\"M 2834 3397 \r\nL 2834 2853 \r\nQ 2591 2978 2328 3040 \r\nQ 2066 3103 1784 3103 \r\nQ 1356 3103 1142 2972 \r\nQ 928 2841 928 2578 \r\nQ 928 2378 1081 2264 \r\nQ 1234 2150 1697 2047 \r\nL 1894 2003 \r\nQ 2506 1872 2764 1633 \r\nQ 3022 1394 3022 966 \r\nQ 3022 478 2636 193 \r\nQ 2250 -91 1575 -91 \r\nQ 1294 -91 989 -36 \r\nQ 684 19 347 128 \r\nL 347 722 \r\nQ 666 556 975 473 \r\nQ 1284 391 1588 391 \r\nQ 1994 391 2212 530 \r\nQ 2431 669 2431 922 \r\nQ 2431 1156 2273 1281 \r\nQ 2116 1406 1581 1522 \r\nL 1381 1569 \r\nQ 847 1681 609 1914 \r\nQ 372 2147 372 2553 \r\nQ 372 3047 722 3315 \r\nQ 1072 3584 1716 3584 \r\nQ 2034 3584 2315 3537 \r\nQ 2597 3491 2834 3397 \r\nz\r\n\" id=\"DejaVuSans-73\" transform=\"scale(0.015625)\"/>\r\n     <path d=\"M 1172 4494 \r\nL 1172 3500 \r\nL 2356 3500 \r\nL 2356 3053 \r\nL 1172 3053 \r\nL 1172 1153 \r\nQ 1172 725 1289 603 \r\nQ 1406 481 1766 481 \r\nL 2356 481 \r\nL 2356 0 \r\nL 1766 0 \r\nQ 1100 0 847 248 \r\nQ 594 497 594 1153 \r\nL 594 3053 \r\nL 172 3053 \r\nL 172 3500 \r\nL 594 3500 \r\nL 594 4494 \r\nL 1172 4494 \r\nz\r\n\" id=\"DejaVuSans-74\" transform=\"scale(0.015625)\"/>\r\n     <path d=\"M 3597 1894 \r\nL 3597 1613 \r\nL 953 1613 \r\nQ 991 1019 1311 708 \r\nQ 1631 397 2203 397 \r\nQ 2534 397 2845 478 \r\nQ 3156 559 3463 722 \r\nL 3463 178 \r\nQ 3153 47 2828 -22 \r\nQ 2503 -91 2169 -91 \r\nQ 1331 -91 842 396 \r\nQ 353 884 353 1716 \r\nQ 353 2575 817 3079 \r\nQ 1281 3584 2069 3584 \r\nQ 2775 3584 3186 3129 \r\nQ 3597 2675 3597 1894 \r\nz\r\nM 3022 2063 \r\nQ 3016 2534 2758 2815 \r\nQ 2500 3097 2075 3097 \r\nQ 1594 3097 1305 2825 \r\nQ 1016 2553 972 2059 \r\nL 3022 2063 \r\nz\r\n\" id=\"DejaVuSans-65\" transform=\"scale(0.015625)\"/>\r\n     <path d=\"M 2631 2963 \r\nQ 2534 3019 2420 3045 \r\nQ 2306 3072 2169 3072 \r\nQ 1681 3072 1420 2755 \r\nQ 1159 2438 1159 1844 \r\nL 1159 0 \r\nL 581 0 \r\nL 581 3500 \r\nL 1159 3500 \r\nL 1159 2956 \r\nQ 1341 3275 1631 3429 \r\nQ 1922 3584 2338 3584 \r\nQ 2397 3584 2469 3576 \r\nQ 2541 3569 2628 3553 \r\nL 2631 2963 \r\nz\r\n\" id=\"DejaVuSans-72\" transform=\"scale(0.015625)\"/>\r\n     <path id=\"DejaVuSans-20\" transform=\"scale(0.015625)\"/>\r\n     <path d=\"M 1259 4147 \r\nL 1259 519 \r\nL 2022 519 \r\nQ 2988 519 3436 956 \r\nQ 3884 1394 3884 2338 \r\nQ 3884 3275 3436 3711 \r\nQ 2988 4147 2022 4147 \r\nL 1259 4147 \r\nz\r\nM 628 4666 \r\nL 1925 4666 \r\nQ 3281 4666 3915 4102 \r\nQ 4550 3538 4550 2338 \r\nQ 4550 1131 3912 565 \r\nQ 3275 0 1925 0 \r\nL 628 0 \r\nL 628 4666 \r\nz\r\n\" id=\"DejaVuSans-44\" transform=\"scale(0.015625)\"/>\r\n     <path d=\"M 603 3500 \r\nL 1178 3500 \r\nL 1178 0 \r\nL 603 0 \r\nL 603 3500 \r\nz\r\nM 603 4863 \r\nL 1178 4863 \r\nL 1178 4134 \r\nL 603 4134 \r\nL 603 4863 \r\nz\r\n\" id=\"DejaVuSans-69\" transform=\"scale(0.015625)\"/>\r\n     <path d=\"M 3116 1747 \r\nQ 3116 2381 2855 2742 \r\nQ 2594 3103 2138 3103 \r\nQ 1681 3103 1420 2742 \r\nQ 1159 2381 1159 1747 \r\nQ 1159 1113 1420 752 \r\nQ 1681 391 2138 391 \r\nQ 2594 391 2855 752 \r\nQ 3116 1113 3116 1747 \r\nz\r\nM 1159 2969 \r\nQ 1341 3281 1617 3432 \r\nQ 1894 3584 2278 3584 \r\nQ 2916 3584 3314 3078 \r\nQ 3713 2572 3713 1747 \r\nQ 3713 922 3314 415 \r\nQ 2916 -91 2278 -91 \r\nQ 1894 -91 1617 61 \r\nQ 1341 213 1159 525 \r\nL 1159 0 \r\nL 581 0 \r\nL 581 4863 \r\nL 1159 4863 \r\nL 1159 2969 \r\nz\r\n\" id=\"DejaVuSans-62\" transform=\"scale(0.015625)\"/>\r\n     <path d=\"M 1959 3097 \r\nQ 1497 3097 1228 2736 \r\nQ 959 2375 959 1747 \r\nQ 959 1119 1226 758 \r\nQ 1494 397 1959 397 \r\nQ 2419 397 2687 759 \r\nQ 2956 1122 2956 1747 \r\nQ 2956 2369 2687 2733 \r\nQ 2419 3097 1959 3097 \r\nz\r\nM 1959 3584 \r\nQ 2709 3584 3137 3096 \r\nQ 3566 2609 3566 1747 \r\nQ 3566 888 3137 398 \r\nQ 2709 -91 1959 -91 \r\nQ 1206 -91 779 398 \r\nQ 353 888 353 1747 \r\nQ 353 2609 779 3096 \r\nQ 1206 3584 1959 3584 \r\nz\r\n\" id=\"DejaVuSans-6f\" transform=\"scale(0.015625)\"/>\r\n     <path d=\"M 3513 2113 \r\nL 3513 0 \r\nL 2938 0 \r\nL 2938 2094 \r\nQ 2938 2591 2744 2837 \r\nQ 2550 3084 2163 3084 \r\nQ 1697 3084 1428 2787 \r\nQ 1159 2491 1159 1978 \r\nL 1159 0 \r\nL 581 0 \r\nL 581 3500 \r\nL 1159 3500 \r\nL 1159 2956 \r\nQ 1366 3272 1645 3428 \r\nQ 1925 3584 2291 3584 \r\nQ 2894 3584 3203 3211 \r\nQ 3513 2838 3513 2113 \r\nz\r\n\" id=\"DejaVuSans-6e\" transform=\"scale(0.015625)\"/>\r\n    </defs>\r\n    <use xlink:href=\"#DejaVuSans-43\"/>\r\n    <use x=\"69.824219\" xlink:href=\"#DejaVuSans-6c\"/>\r\n    <use x=\"97.607422\" xlink:href=\"#DejaVuSans-75\"/>\r\n    <use x=\"160.986328\" xlink:href=\"#DejaVuSans-73\"/>\r\n    <use x=\"213.085938\" xlink:href=\"#DejaVuSans-74\"/>\r\n    <use x=\"252.294922\" xlink:href=\"#DejaVuSans-65\"/>\r\n    <use x=\"313.818359\" xlink:href=\"#DejaVuSans-72\"/>\r\n    <use x=\"354.931641\" xlink:href=\"#DejaVuSans-20\"/>\r\n    <use x=\"386.71875\" xlink:href=\"#DejaVuSans-44\"/>\r\n    <use x=\"463.720703\" xlink:href=\"#DejaVuSans-69\"/>\r\n    <use x=\"491.503906\" xlink:href=\"#DejaVuSans-73\"/>\r\n    <use x=\"543.603516\" xlink:href=\"#DejaVuSans-74\"/>\r\n    <use x=\"582.8125\" xlink:href=\"#DejaVuSans-72\"/>\r\n    <use x=\"623.925781\" xlink:href=\"#DejaVuSans-69\"/>\r\n    <use x=\"651.708984\" xlink:href=\"#DejaVuSans-62\"/>\r\n    <use x=\"715.185547\" xlink:href=\"#DejaVuSans-75\"/>\r\n    <use x=\"778.564453\" xlink:href=\"#DejaVuSans-74\"/>\r\n    <use x=\"817.773438\" xlink:href=\"#DejaVuSans-69\"/>\r\n    <use x=\"845.556641\" xlink:href=\"#DejaVuSans-6f\"/>\r\n    <use x=\"906.738281\" xlink:href=\"#DejaVuSans-6e\"/>\r\n    <use x=\"970.117188\" xlink:href=\"#DejaVuSans-73\"/>\r\n   </g>\r\n  </g>\r\n  <g id=\"text_19\">\r\n   <!-- Relative Cluster Size -->\r\n   <g transform=\"translate(14.798438 196.792344)rotate(-90)scale(0.1 -0.1)\">\r\n    <defs>\r\n     <path d=\"M 2841 2188 \r\nQ 3044 2119 3236 1894 \r\nQ 3428 1669 3622 1275 \r\nL 4263 0 \r\nL 3584 0 \r\nL 2988 1197 \r\nQ 2756 1666 2539 1819 \r\nQ 2322 1972 1947 1972 \r\nL 1259 1972 \r\nL 1259 0 \r\nL 628 0 \r\nL 628 4666 \r\nL 2053 4666 \r\nQ 2853 4666 3247 4331 \r\nQ 3641 3997 3641 3322 \r\nQ 3641 2881 3436 2590 \r\nQ 3231 2300 2841 2188 \r\nz\r\nM 1259 4147 \r\nL 1259 2491 \r\nL 2053 2491 \r\nQ 2509 2491 2742 2702 \r\nQ 2975 2913 2975 3322 \r\nQ 2975 3731 2742 3939 \r\nQ 2509 4147 2053 4147 \r\nL 1259 4147 \r\nz\r\n\" id=\"DejaVuSans-52\" transform=\"scale(0.015625)\"/>\r\n     <path d=\"M 2194 1759 \r\nQ 1497 1759 1228 1600 \r\nQ 959 1441 959 1056 \r\nQ 959 750 1161 570 \r\nQ 1363 391 1709 391 \r\nQ 2188 391 2477 730 \r\nQ 2766 1069 2766 1631 \r\nL 2766 1759 \r\nL 2194 1759 \r\nz\r\nM 3341 1997 \r\nL 3341 0 \r\nL 2766 0 \r\nL 2766 531 \r\nQ 2569 213 2275 61 \r\nQ 1981 -91 1556 -91 \r\nQ 1019 -91 701 211 \r\nQ 384 513 384 1019 \r\nQ 384 1609 779 1909 \r\nQ 1175 2209 1959 2209 \r\nL 2766 2209 \r\nL 2766 2266 \r\nQ 2766 2663 2505 2880 \r\nQ 2244 3097 1772 3097 \r\nQ 1472 3097 1187 3025 \r\nQ 903 2953 641 2809 \r\nL 641 3341 \r\nQ 956 3463 1253 3523 \r\nQ 1550 3584 1831 3584 \r\nQ 2591 3584 2966 3190 \r\nQ 3341 2797 3341 1997 \r\nz\r\n\" id=\"DejaVuSans-61\" transform=\"scale(0.015625)\"/>\r\n     <path d=\"M 191 3500 \r\nL 800 3500 \r\nL 1894 563 \r\nL 2988 3500 \r\nL 3597 3500 \r\nL 2284 0 \r\nL 1503 0 \r\nL 191 3500 \r\nz\r\n\" id=\"DejaVuSans-76\" transform=\"scale(0.015625)\"/>\r\n     <path d=\"M 3425 4513 \r\nL 3425 3897 \r\nQ 3066 4069 2747 4153 \r\nQ 2428 4238 2131 4238 \r\nQ 1616 4238 1336 4038 \r\nQ 1056 3838 1056 3469 \r\nQ 1056 3159 1242 3001 \r\nQ 1428 2844 1947 2747 \r\nL 2328 2669 \r\nQ 3034 2534 3370 2195 \r\nQ 3706 1856 3706 1288 \r\nQ 3706 609 3251 259 \r\nQ 2797 -91 1919 -91 \r\nQ 1588 -91 1214 -16 \r\nQ 841 59 441 206 \r\nL 441 856 \r\nQ 825 641 1194 531 \r\nQ 1563 422 1919 422 \r\nQ 2459 422 2753 634 \r\nQ 3047 847 3047 1241 \r\nQ 3047 1584 2836 1778 \r\nQ 2625 1972 2144 2069 \r\nL 1759 2144 \r\nQ 1053 2284 737 2584 \r\nQ 422 2884 422 3419 \r\nQ 422 4038 858 4394 \r\nQ 1294 4750 2059 4750 \r\nQ 2388 4750 2728 4690 \r\nQ 3069 4631 3425 4513 \r\nz\r\n\" id=\"DejaVuSans-53\" transform=\"scale(0.015625)\"/>\r\n     <path d=\"M 353 3500 \r\nL 3084 3500 \r\nL 3084 2975 \r\nL 922 459 \r\nL 3084 459 \r\nL 3084 0 \r\nL 275 0 \r\nL 275 525 \r\nL 2438 3041 \r\nL 353 3041 \r\nL 353 3500 \r\nz\r\n\" id=\"DejaVuSans-7a\" transform=\"scale(0.015625)\"/>\r\n    </defs>\r\n    <use xlink:href=\"#DejaVuSans-52\"/>\r\n    <use x=\"64.982422\" xlink:href=\"#DejaVuSans-65\"/>\r\n    <use x=\"126.505859\" xlink:href=\"#DejaVuSans-6c\"/>\r\n    <use x=\"154.289062\" xlink:href=\"#DejaVuSans-61\"/>\r\n    <use x=\"215.568359\" xlink:href=\"#DejaVuSans-74\"/>\r\n    <use x=\"254.777344\" xlink:href=\"#DejaVuSans-69\"/>\r\n    <use x=\"282.560547\" xlink:href=\"#DejaVuSans-76\"/>\r\n    <use x=\"341.740234\" xlink:href=\"#DejaVuSans-65\"/>\r\n    <use x=\"403.263672\" xlink:href=\"#DejaVuSans-20\"/>\r\n    <use x=\"435.050781\" xlink:href=\"#DejaVuSans-43\"/>\r\n    <use x=\"504.875\" xlink:href=\"#DejaVuSans-6c\"/>\r\n    <use x=\"532.658203\" xlink:href=\"#DejaVuSans-75\"/>\r\n    <use x=\"596.037109\" xlink:href=\"#DejaVuSans-73\"/>\r\n    <use x=\"648.136719\" xlink:href=\"#DejaVuSans-74\"/>\r\n    <use x=\"687.345703\" xlink:href=\"#DejaVuSans-65\"/>\r\n    <use x=\"748.869141\" xlink:href=\"#DejaVuSans-72\"/>\r\n    <use x=\"789.982422\" xlink:href=\"#DejaVuSans-20\"/>\r\n    <use x=\"821.769531\" xlink:href=\"#DejaVuSans-53\"/>\r\n    <use x=\"885.246094\" xlink:href=\"#DejaVuSans-69\"/>\r\n    <use x=\"913.029297\" xlink:href=\"#DejaVuSans-7a\"/>\r\n    <use x=\"965.519531\" xlink:href=\"#DejaVuSans-65\"/>\r\n   </g>\r\n  </g>\r\n </g>\r\n <defs>\r\n  <clipPath id=\"pd67d14e20d\">\r\n   <rect height=\"217.44\" width=\"98.470588\" x=\"43.92\" y=\"36\"/>\r\n  </clipPath>\r\n  <clipPath id=\"pf6704a95cb\">\r\n   <rect height=\"217.44\" width=\"98.470588\" x=\"162.084706\" y=\"36\"/>\r\n  </clipPath>\r\n  <clipPath id=\"pa9c0afa3a6\">\r\n   <rect height=\"217.44\" width=\"98.470588\" x=\"280.249412\" y=\"36\"/>\r\n  </clipPath>\r\n </defs>\r\n</svg>\r\n",
      "image/png": "[encoded data removed]"
     },
     "metadata": {
      "needs_background": "light"
     }
    }
   ],
   "metadata": {}
  }
 ],
 "metadata": {
  "orig_nbformat": 4,
  "language_info": {
   "name": "python",
   "version": "3.9.0",
   "mimetype": "text/x-python",
   "codemirror_mode": {
    "name": "ipython",
    "version": 3
   },
   "pygments_lexer": "ipython3",
   "nbconvert_exporter": "python",
   "file_extension": ".py"
  },
  "kernelspec": {
   "name": "python3",
   "display_name": "Python 3.9.0 64-bit"
  },
  "interpreter": {
   "hash": "63fd5069d213b44bf678585dea6b12cceca9941eaf7f819626cde1f2670de90d"
  }
 },
 "nbformat": 4,
 "nbformat_minor": 2
}